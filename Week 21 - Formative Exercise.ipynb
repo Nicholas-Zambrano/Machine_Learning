{
 "cells": [
  {
   "cell_type": "markdown",
   "id": "67f5bb55",
   "metadata": {},
   "source": [
    "# Week 21 - Formative Exercise\n",
    "\n",
    "This week you're given a scenario below, you must select appropriate techniques to consider, train at least two models based on the scenario and then finally evaluate your models using reasonable metrics. \n",
    "\n",
    "## Scenario\n",
    "You are working as a data scientist at the Met Office.\n",
    "\n",
    "Wales is particularly succeptible to climate change which is increasing the frequency of both flooding and drought events. Luckily temperature and rainfall records are well kept for four stations in Wales.\n",
    "\n",
    "To help identify the future state of the climate in Wales you have been asked to conduct one of the two tasks below, choose one which interests you the most.\n",
    "\n",
    "### Task 1: Rainfall Prediction\n",
    "The first option is to produce a model capable of predicting the rainfall in June of 2100.\n",
    "\n",
    "### Task 2: Temperature Prediction\n",
    "The second option is to produce a model capable of predicting the temperature in September of 2150.\n",
    "\n",
    "## Dataset\n",
    "\n",
    "You have been provided a weather dataset for four weather stations across Wales, these are:\n",
    "+ 0: Valley\n",
    "+ 1: Cardiff\n",
    "+ 2: Ross-on-Wye\n",
    "+ 3: Aberporth\n",
    "\n",
    "<div>\n",
    "<img src=\"wales.png\" width=\"250\"/>\n",
    "</div>\n",
    "\n",
    "The dataset is provided in a Numpy array format which can be loaded as follows:\n",
    "\n",
    "`dataset = np.loadtxt(\"weather_data.csv\", delimiter=\",\")`\n",
    "\n",
    "Once you have loaded the dataset it will look like a numpy array consisting of 5 columns which are as follows:\n",
    "1. Weather Station (a numerical indicator as defined above)\n",
    "2. Year of the reading\n",
    "3. Month of the reading\n",
    "4. Temperature (Degrees Celsius)\n",
    "5. Rainfall (mm)\n",
    "\n",
    "You do not have to use all the data; however, you should consider carefully which data you need to successfully train and test a model to answer the questions.\n",
    "\n",
    "## Recommended Steps\n",
    "\n",
    "To help you answer the questions here are a list of steps I recommend you take to tackle each question individually:\n",
    "1. Load the data from the `weather_data.csv` file.\n",
    "2. Extract only the inputs and outputs you need.\n",
    "3. Split the data into training and testing.\n",
    "4. Select a suitable modelling approach.\n",
    "5. Implement and fit the model.\n",
    "6. Evaluate the model's performance.\n",
    "7. (Optional) Try a second modelling approach to compare performance!\n",
    "\n",
    "## Tips and Tricks\n",
    "\n",
    "Now you've got a handle on the metrics necessary for evaluating tasks I recommend you make use of the sklearn metrics library so you don't need to implement them yourself! Take a look through the [metrics](https://scikit-learn.org/stable/modules/model_evaluation.html) documentation, you'"
   ]
  },
  {
   "cell_type": "code",
   "execution_count": 2,
   "id": "12e1eae9",
   "metadata": {},
   "outputs": [
    {
     "name": "stdout",
     "output_type": "stream",
     "text": [
      "0.08705734236593377\n"
     ]
    }
   ],
   "source": [
    "import numpy as np\n",
    "from sklearn.metrics import r2_score\n",
    "\n",
    "from sklearn.linear_model import LinearRegression\n",
    "\n",
    "from sklearn.model_selection import train_test_split\n",
    "\n",
    "dataset = np.loadtxt(\"weather_data.csv\", delimiter=\",\")\n",
    "\n",
    "# input_x = dataset[:,1],dataset[:,2],dataset[:,3]\n",
    "input_x = dataset [: ,1:4]\n",
    "output_y = dataset [:, 4]\n",
    "\n",
    "# x_train,x_test , y_train,y_test = train_test_split  (input_x,output_y , test_size = 0.2 , random_state = 42)\n",
    "x_train,x_test , y_train,y_test = train_test_split  (input_x,output_y , test_size = 0.2 , random_state = 56)\n",
    "\n",
    "linear_model = LinearRegression().fit(x_train,y_train)\n",
    "# linear_model.fit(x_train,y_train)\n",
    "preds = linear_model.predict(x_test)\n",
    "\n",
    "r2 = r2_score(y_test,preds)\n",
    "print(r2)\n",
    "\n",
    "\n",
    "\n",
    "# print(dataset)\n"
   ]
  },
  {
   "cell_type": "code",
   "execution_count": null,
   "id": "8b1a29b3",
   "metadata": {},
   "outputs": [],
   "source": []
  }
 ],
 "metadata": {
  "kernelspec": {
   "display_name": "Python 3 (ipykernel)",
   "language": "python",
   "name": "python3"
  },
  "language_info": {
   "codemirror_mode": {
    "name": "ipython",
    "version": 3
   },
   "file_extension": ".py",
   "mimetype": "text/x-python",
   "name": "python",
   "nbconvert_exporter": "python",
   "pygments_lexer": "ipython3",
   "version": "3.9.13"
  }
 },
 "nbformat": 4,
 "nbformat_minor": 5
}
