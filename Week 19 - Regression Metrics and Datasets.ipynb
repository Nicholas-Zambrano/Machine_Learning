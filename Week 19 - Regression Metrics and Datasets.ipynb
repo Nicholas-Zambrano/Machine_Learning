{
 "cells": [
  {
   "cell_type": "markdown",
   "id": "9db56340",
   "metadata": {},
   "source": [
    "# Week 19 - Regression\n",
    "\n",
    "This week's exercises will focus on linear regression and the use of different metrics in evaluating regression performance.\n",
    "\n",
    "The learning objectives of this lab are as follows:\n",
    "- A. Implement a regression model using modern Python libraries.\n",
    "- B. Implement and compare four regression metrics.\n",
    "- C. Explain why datasets are split into training and testing.\n",
    "\n",
    "To begin, let's set up some imports:"
   ]
  },
  {
   "cell_type": "code",
   "execution_count": 1,
   "id": "b89c6a86",
   "metadata": {},
   "outputs": [],
   "source": [
    "from sklearn.datasets import load_iris, make_regression # Dataset we will be using\n",
    "from sklearn.linear_model import LinearRegression\n",
    "import matplotlib.pyplot as plt\n",
    "import sklearn as sk\n",
    "import numpy as np"
   ]
  },
  {
   "cell_type": "markdown",
   "id": "7c3c6eea",
   "metadata": {},
   "source": [
    "## 1. Linear Regression\n",
    "\n",
    "Sklearn is a open-source, community driven Python library which contains most of the methods we will be using throughout the remainder of this course. This includes Linear Regression!\n",
    "\n",
    "The code below loads some sample data from an Iris flower dataset. In this case `x` will contain two features: the sepal length and the sepal width of a range of flowers. The target variable `y` is the petal length."
   ]
  },
  {
   "cell_type": "code",
   "execution_count": 2,
   "id": "c350966f",
   "metadata": {},
   "outputs": [],
   "source": [
    "iris_data = load_iris()\n",
    "iris_x = iris_data['data'][:, :2]\n",
    "iris_y = iris_data['data'][:, 2]"
   ]
  },
  {
   "cell_type": "markdown",
   "id": "348ce376",
   "metadata": {},
   "source": [
    "### 1.1 TASK\n",
    "Use the `LinearRegression` class to create a linear model fitting `iris_x` to `iris_y`, the steps to do this are as follows:\n",
    "\n",
    "1. Instantiate an object of class LinearRegression.\n",
    "2. Call the `.fit(...)` function on your LinearRegression object using the appropriate `iris_x` and `iris_y` parameters to generate a linear model.\n",
    "3. Get predictions for your model and store them in a `lrg_preds` variable, to do this you should use the `.predict(...)` function.\n",
    "\n",
    "For help in the above task, refer to the [Linear Regression Documentation](https://scikit-learn.org/stable/modules/generated/sklearn.linear_model.LinearRegression.html#sklearn.linear_model.LinearRegression).\n",
    "\n",
    "Once you've got a model and a set of predictions, you've completed the task!"
   ]
  },
  {
   "cell_type": "code",
   "execution_count": 3,
   "id": "6cbde9ed",
   "metadata": {},
   "outputs": [],
   "source": [
    "# instantiated linear regression model\n",
    "linear_model = LinearRegression() \n",
    "# fitting the model to the data\n",
    "linear_model.fit(iris_x,iris_y)\n",
    "# getting predictions for input data \n",
    "lrg_preds = linear_model.predict(iris_x)\n",
    "\n"
   ]
  },
  {
   "cell_type": "markdown",
   "id": "5fe6a5ba",
   "metadata": {},
   "source": [
    "Now we can query the model to find out its coefficients and y intercept using the model's `.coef_` and `intercept_` attributes."
   ]
  },
  {
   "cell_type": "code",
   "execution_count": 4,
   "id": "f8c1805a",
   "metadata": {},
   "outputs": [
    {
     "name": "stdout",
     "output_type": "stream",
     "text": [
      "coefficients: [ 1.77559255 -1.33862329]\n",
      "intercept: -2.524761511833407\n"
     ]
    }
   ],
   "source": [
    "print(f\"coefficients: {linear_model.coef_}\")\n",
    "print(f\"intercept: {linear_model.intercept_}\")\n",
    "\n"
   ]
  },
  {
   "cell_type": "markdown",
   "id": "8c11116b",
   "metadata": {},
   "source": [
    "The coeficients are the equivalent to the parameters ($\\theta_{1,2}$) for each feature ($x_1$ and $x_2$), the y intercept is equivalent to $\\theta_0$ (the bias of the model).\n",
    "\n",
    "Therefore, the optimal parameters are as follows:\n",
    "\n",
    "$$\\theta=\\begin{bmatrix} {intercept} \\\\ {coef(0)} \\\\ {coef(1)} \\end{bmatrix}$$\n",
    "\n",
    "Remember to make our lives easier we assume $x_0$ is always 1, e.g.:\n",
    "\n",
    "$$x^0 = \\begin{bmatrix} 1 \\\\ x^{0}_{1} \\\\ x^{0}_{2} \\end{bmatrix}$$\n",
    "\n",
    "This gives us a hypothesis function of:\n",
    "\n",
    "$$h_{\\theta}(x)=(intercept)(x_0) + (coef[0])(x_1) + (coef[1])(x_2)$$"
   ]
  },
  {
   "cell_type": "markdown",
   "id": "9c56b91c",
   "metadata": {},
   "source": [
    "### 1.2 TASK\n",
    "\n",
    "Complete the method below such that it acts as a generalised hypothesis function for a given set of parameters ($\\theta$) and an input ($x^1$).\n",
    "\n",
    "1. parameters will be a Numpy array of length m+1 where m is the number of features.\n",
    "2. input_vector will be a Numpy array of length m."
   ]
  },
  {
   "cell_type": "code",
   "execution_count": 5,
   "id": "b2c4774d",
   "metadata": {},
   "outputs": [],
   "source": [
    "def hypothesis(parameters, input_vector):\n",
    "    # Implement me!!\n",
    "#     including arrays except the first one\n",
    "    hypothesis = np.dot(parameters[1:], input_vector)\n",
    "    return parameters[0] + hypothesis\n",
    "\n"
   ]
  },
  {
   "cell_type": "markdown",
   "id": "b1bc12ed",
   "metadata": {},
   "source": [
    "## 2. Cost Functions\n",
    "\n",
    "In order to evaluate the performance of the model we need to define our cost functions.\n",
    "\n",
    "A common cost function is the Mean Squared Error (MSE). However, there are alternatives, for example the Mean Absolute Error (MAE) and Root-Mean Squared Error (RMSE). The equations for each of these is given below where $y$ is the set of true values, $\\hat{y}$ is the set of predictions and $n$ is the number of items in the predictions set.\n",
    "The equation for the MSE is given below:\n",
    "\n",
    "$$ MSE(y, \\hat{y}) = \\frac{1}{n}\\sum_{i=1}^{n}{(y_{i}-\\hat{y_i})^2}$$\n",
    "\n",
    "$$ MAE(y, \\hat{y}) = \\frac{1}{n}\\sum_{i=1}^{n}{(|y_{i}-\\hat{y_i})|}$$\n",
    "\n",
    "$$ RMSE(y, \\hat{y}) = \\sqrt{\\frac{1}{n}\\sum_{i=1}^{n}{(y_{i}-\\hat{y_i})^2}}$$\n",
    "\n",
    "### 2.1 TASK\n",
    "\n",
    "Implement these three functions using the skeleton code below."
   ]
  },
  {
   "cell_type": "code",
   "execution_count": 6,
   "id": "1abf5ac1",
   "metadata": {},
   "outputs": [],
   "source": [
    "def mse(predictions, truth):\n",
    "    # Implement me!\n",
    "    n= len(predictions)\n",
    "    value = 1/n*(np.sum(np.square(truth - predictions)))\n",
    "    \n",
    "    return value\n"
   ]
  },
  {
   "cell_type": "code",
   "execution_count": 7,
   "id": "192152dc",
   "metadata": {},
   "outputs": [],
   "source": [
    "def mae(predictions, truth):\n",
    "    # Implement me!\n",
    "    n= len(predictions)\n",
    "    value = 1/n * (np.sum(np.absolute(truth - predictions)))\n",
    "    return value"
   ]
  },
  {
   "cell_type": "code",
   "execution_count": 8,
   "id": "88c40762",
   "metadata": {},
   "outputs": [],
   "source": [
    "def rmse(predictions, truth):\n",
    "    # Implement me!\n",
    "    n= len(predictions)\n",
    "\n",
    "    value = np.sqrt(1/n * np.sum(np.square(truth-predictions)))\n",
    "    return value"
   ]
  },
  {
   "cell_type": "markdown",
   "id": "9a1687b1",
   "metadata": {},
   "source": [
    "It's important to recognise the differences between these functions and the technical caveats when using them.\n",
    "\n",
    "For example, let's take a simple dataset consisting of one variable $(x)$, some true outputs $(y)$ and two sets of predictions $(\\hat{y_{0}}, \\hat{y_{1}})$. We can define these as Numpy arrays as shown below:"
   ]
  },
  {
   "cell_type": "code",
   "execution_count": 9,
   "id": "d2573aca",
   "metadata": {},
   "outputs": [],
   "source": [
    "x = np.array([1, 2, 3, 4, 5])\n",
    "y = np.array([1, 2, 3, 4, 5])\n",
    "preds_0 = np.array([0.8, 2.2, 1.1, 3.7, 5.5])\n",
    "preds_1 = np.array([0.1, 2.9, 3.1, 4.8, 5.8])"
   ]
  },
  {
   "cell_type": "markdown",
   "id": "f7650dc2",
   "metadata": {},
   "source": [
    "To begin let's visualise the data:"
   ]
  },
  {
   "cell_type": "code",
   "execution_count": 10,
   "id": "0737e8ae",
   "metadata": {},
   "outputs": [
    {
     "data": {
      "text/plain": [
       "(0.0, 6.0)"
      ]
     },
     "execution_count": 10,
     "metadata": {},
     "output_type": "execute_result"
    },
    {
     "data": {
      "image/png": "[encoded data removed]",
      "text/plain": [
       "<Figure size 640x480 with 1 Axes>"
      ]
     },
     "metadata": {},
     "output_type": "display_data"
    }
   ],
   "source": [
    "plt.plot(x, y)\n",
    "plt.scatter(x, preds_0, c='r')\n",
    "plt.scatter(x, preds_1, c='g')\n",
    "plt.ylim([0, 6])\n",
    "plt.xlim([0, 6])"
   ]
  },
  {
   "cell_type": "markdown",
   "id": "9a6ff256",
   "metadata": {},
   "source": [
    "As we can see, neither of the predictions are a great match to the intended output. However, there are some subtle differences. For example, the red predictions are pretty good except for an anomaly at position 3 where as the greens are more variable but consistent.\n",
    "\n",
    "### 2.2 TASK\n",
    "\n",
    "In the space below use your cost functions to evaluate both `preds_0` and `preds_1`."
   ]
  },
  {
   "cell_type": "code",
   "execution_count": 20,
   "id": "4abad8e7",
   "metadata": {},
   "outputs": [
    {
     "name": "stdout",
     "output_type": "stream",
     "text": [
      "mse_0: 0.8059999999999999\n",
      "mae_0: 0.62\n",
      "rmse_0: 0.8977750274985375\n",
      "-----------------------\n",
      "mse_1:0.5819999999999999\n",
      "mae_1:0.7\n",
      "rmse_1:0.762889244910426\n"
     ]
    }
   ],
   "source": [
    "mse_0 = mse(preds_0,y)\n",
    "print(f\"mse_0: {mse_0}\")\n",
    "\n",
    "\n",
    "mae_0 = mae(preds_0,y)\n",
    "print(f\"mae_0: {mae_0}\")\n",
    "\n",
    "rmse_0 = rmse(preds_0,y)\n",
    "print(f\"rmse_0: {rmse_0}\")\n",
    "print(\"-----------------------\")\n",
    "mse_1 = mse(preds_1,y)\n",
    "print(f\"mse_1:{mse_1}\")\n",
    "\n",
    "mae_1 = mae(preds_1,y)\n",
    "print(f\"mae_1:{mae_1}\")\n",
    "\n",
    "rmse_1 = rmse(preds_1,y)\n",
    "print(f\"rmse_1:{rmse_1}\")"
   ]
  },
  {
   "cell_type": "markdown",
   "id": "57cfec50",
   "metadata": {},
   "source": [
    "Hopefully you'll notice how the difference metrics give different indicators as to which prediction set is better.\n",
    "\n",
    "As a general rule of thumb the `MSE` and `RMSE` error metrics apply harsher penalties to larger errors. It's also worth noting that RMSE is provided in the same units as $y$.\n",
    "\n",
    "I suggest you take some time to explore this by changing the values in `preds_0` and `preds_1` to see what other things you notice.\n",
    "\n",
    "### 2.3 TASK\n",
    "Now you've got a handle on the cost functions above, use the space below to evaluate (in your own words) how your model from section 1 performs."
   ]
  },
  {
   "cell_type": "markdown",
   "id": "37e1908f",
   "metadata": {},
   "source": [
    "When comparing these metrics, we see that preds_1 genreally peforms better thatn preds_0 ,\n",
    "which suggests that preds_1 have smallest errors overall, particularly in terms of MSE and RMSE they apply \n",
    "heavier penalties to large errors.\n",
    "\n",
    "As a result, preds_1 have predictions closer to the true values compared to preds_0.\n"
   ]
  },
  {
   "cell_type": "markdown",
   "id": "301d4da8",
   "metadata": {},
   "source": [
    "## 2. Problem\n",
    "\n",
    "Now it's your turn to resolve a regression problem using a new error metric.\n",
    "\n",
    "The $R^2$ metric is known as the coefficient of determination and provides a way of measuring the 'goodness of fit' of a given model. Technically it describes the percentage of variation which can be explained by the $x$ values. The equation for calculating $R^2$ is given below:\n",
    "\n",
    "$$ R^{2}=1-\\frac{\\sum{(y_i - \\hat{y_i})^2}}{\\sum{(y_i - \\bar{y})^2}}$$\n",
    "\n",
    "here $y_i$ is a true value for item $i$, $\\hat{y_i}$ is the prediction for item $i$ and $\\bar{y}$ is the average value of $y$. For more information refer to $R^2$ documentation [here](https://www.ncl.ac.uk/webtemplate/ask-assets/external/maths-resources/statistics/regression-and-correlation/coefficient-of-determination-r-squared.html).\n",
    "\n",
    "Below you have been given both a dataset consisting of 5 features and 1 output value, using what you've learnt in this exercise sheet you must:\n",
    "1. Write a new function which calculates the $R^2$ value for a given set of predicted and true values.\n",
    "2. Train a linear regression model using the training data.\n",
    "3. Perform an evaluation of the model using the testing data and the three evaluation metrics you implemented in section 2 and your new $R^2$ metric.\n",
    "\n",
    "An outline has been provided through the use of headings."
   ]
  },
  {
   "cell_type": "markdown",
   "id": "225ea9ea",
   "metadata": {},
   "source": [
    "### Dataset"
   ]
  },
  {
   "cell_type": "code",
   "execution_count": 39,
   "id": "fcaeb54c",
   "metadata": {},
   "outputs": [],
   "source": [
    "from sklearn.model_selection import train_test_split\n",
    "\n",
    "X, Y = make_regression(n_samples=200, n_features=5, n_informative=5, noise=10, random_state=0)"
   ]
  },
  {
   "cell_type": "markdown",
   "id": "ffce1273",
   "metadata": {},
   "source": [
    "### R-Squared Method"
   ]
  },
  {
   "cell_type": "code",
   "execution_count": 54,
   "id": "ab142933",
   "metadata": {},
   "outputs": [],
   "source": [
    "def r_squared (truth,predictions):\n",
    "    y_mean  = np.mean(truth)\n",
    "    value = 1 - ((np.sum((truth-predictions)**2)) / np.sum((predictions-y_mean)**2))\n",
    "    return value"
   ]
  },
  {
   "cell_type": "markdown",
   "id": "319298e6",
   "metadata": {},
   "source": [
    "### Training a model"
   ]
  },
  {
   "cell_type": "code",
   "execution_count": 55,
   "id": "0d7094bb",
   "metadata": {},
   "outputs": [
    {
     "data": {
      "text/plain": [
       "LinearRegression()"
      ]
     },
     "execution_count": 55,
     "metadata": {},
     "output_type": "execute_result"
    }
   ],
   "source": [
    "# first initialise the model \n",
    "linear_model = LinearRegression()\n",
    "# then fit the model with the input(training data)\n",
    "\n",
    "linear_model.fit(X,Y)\n"
   ]
  },
  {
   "cell_type": "markdown",
   "id": "0dfe59e2",
   "metadata": {},
   "source": [
    "### Testing a model"
   ]
  },
  {
   "cell_type": "code",
   "execution_count": 56,
   "id": "3559fef9",
   "metadata": {},
   "outputs": [
    {
     "data": {
      "text/plain": [
       "array([ -64.11454549,  -42.66762411, -103.26832434,  149.64471533,\n",
       "         80.4125392 ,   54.9653925 ,   24.2311201 ,  171.71639357,\n",
       "        225.16182192, -341.74674606,  -78.67909558,    4.30215427,\n",
       "        163.13386926,  169.58272645,  -13.05869094,   76.66741312,\n",
       "       -193.58017732,  306.3413225 ,   -6.78327872,  -22.20101483,\n",
       "        167.58065627, -248.14891627, -124.27895188,   93.57539113,\n",
       "       -212.83959448,   38.44271717,  -93.97481928,  206.61234143,\n",
       "         65.10272237,  -50.43721989, -161.48924726,  -87.60554712,\n",
       "       -147.66689618,  -48.59130657,  300.91511074, -128.76278015,\n",
       "       -289.09906384,  -63.27750832, -199.10669506,   -3.06125404,\n",
       "        -43.97314046, -141.06174114, -187.2975855 ,   66.87843466,\n",
       "       -124.27658238,  -94.86025243,  308.46590824,  -49.3896823 ,\n",
       "        182.44469771,   -9.96577935, -228.65747101,   83.71997047,\n",
       "       -212.62975545, -340.72883124,  427.60521167, -161.32065418,\n",
       "       -129.04573429, -268.14040163, -140.11788859,  175.11965207,\n",
       "        215.61939288, -250.37408487, -201.69233971, -108.58072258,\n",
       "        251.76183684,   12.4513588 ,  -33.61854884, -150.71569074,\n",
       "        217.42525703, -129.49075063,  229.37810137, -178.73791398,\n",
       "        -33.02701887,    3.91021458,   39.00064965,  -36.2205733 ,\n",
       "        -38.66689463,   53.54896211,  189.53228695,  203.0757567 ,\n",
       "       -343.17670097, -133.25344225,   -3.88542525,  318.84179134,\n",
       "       -194.69336239, -110.12800143,  428.24830029, -145.14886508,\n",
       "       -170.91684833,  -82.94795339, -275.91564331,  377.6591644 ,\n",
       "       -267.86292954,    7.30674054,  -42.49100428,  367.81794082,\n",
       "       -535.24086917,   48.66033697, -213.77200622, -162.9818877 ,\n",
       "       -105.18141837,  140.15092943, -162.19962192, -312.02585078,\n",
       "        -20.19211212,  104.9069347 ,  121.1360904 ,  131.7738612 ,\n",
       "       -118.11458681, -110.02821849,   25.45404369, -297.009627  ,\n",
       "         49.41872061, -215.88254394,   -2.12767084, -182.97192199,\n",
       "       -153.11929099,    5.54366743,   83.63608753, -219.36046496,\n",
       "         99.88539205,   54.64216774, -349.14589745,   81.73131325,\n",
       "        -48.74929663,   32.38093269, -265.9254419 ,  -47.23224737,\n",
       "       -109.75392434, -220.88381012, -178.68375379,  260.43153636,\n",
       "        340.33232914,  -44.1027237 ,  -48.32078623,  -51.59778463,\n",
       "         75.87811195,  176.89562008,   18.98797838,   18.44793818,\n",
       "         29.14830882, -236.91727049,  -64.54388319, -155.83240916,\n",
       "       -144.03201966,  247.11271547,  202.88528678, -405.23102377,\n",
       "        -34.02750403,   64.64982195,   30.92160932, -104.59757134,\n",
       "        252.09724137,  105.68017123,  307.76509243,  163.90557627,\n",
       "        131.73433333, -369.18562576, -192.10074684,  324.36796712,\n",
       "       -148.1206852 ,  327.37346878, -419.7699776 ,  172.43273636,\n",
       "        378.94393678, -190.87677574,  -44.02695382, -155.84671671,\n",
       "        137.42370556,   98.52269018, -248.31932398,  138.53478563,\n",
       "       -181.91057177, -273.05927047,  208.19816002,   28.85602961,\n",
       "       -172.44358279,  145.7374434 ,  623.41889173, -256.65884563,\n",
       "        -48.62643664,  124.82571736,  -22.9895075 , -206.63301621,\n",
       "         32.65081449,  105.32349728, -304.780784  ,  195.61865875,\n",
       "        -17.34551687,  142.72609762,  262.78727832, -109.91149394,\n",
       "         25.75058711,   86.72207311, -160.44003577,   67.92372817,\n",
       "         95.94751455, -185.87613375, -313.22411701,  -41.07721762])"
      ]
     },
     "execution_count": 56,
     "metadata": {},
     "output_type": "execute_result"
    }
   ],
   "source": [
    "# make predeictions on test data given\n",
    "linear_model.predict(X) \n",
    "\n",
    "\n"
   ]
  },
  {
   "cell_type": "code",
   "execution_count": 62,
   "id": "ffa63a5b",
   "metadata": {},
   "outputs": [],
   "source": [
    "# testing the model on a different data set. This shows how well the model generalizes with new data,\n",
    "# thus we can detect if the model overfits the training data, which means models learns to memorize the training\n",
    "# patterns rather than capturing underlying patters -> this leads to poor performance on new data\n",
    "\n",
    "# train_test_split \n",
    "X_train,X_test, Y_train, Y_test = train_test_split( X,Y,test_size =0.2,random_state = 42)\n",
    "linear_model.fit(X_train,Y_train)\n",
    "predictions = linear_model.predict(X_test)\n",
    "\n",
    "\n"
   ]
  },
  {
   "cell_type": "code",
   "execution_count": 67,
   "id": "be537d9e",
   "metadata": {},
   "outputs": [
    {
     "name": "stdout",
     "output_type": "stream",
     "text": [
      "Mean Squared Error (MSE): 103.07324945880023\n",
      "Root Mean Squared Error (RMSE): 10.152499665540514\n",
      "Mean Absolute Error (MAE): 8.277135526761562\n",
      "R-squared (R²): 0.9967175097813584\n"
     ]
    }
   ],
   "source": [
    "# Function to calculate Mean Squared Error (MSE)\n",
    "def mse(truth, predictions):\n",
    "    return np.mean((truth - predictions)**2)\n",
    "\n",
    "# Function to calculate Root Mean Squared Error (RMSE)\n",
    "def rmse(truth, predictions):\n",
    "    return np.sqrt(np.mean((truth - predictions)**2))\n",
    "\n",
    "# Function to calculate Mean Absolute Error (MAE)\n",
    "def mae(truth, predictions):\n",
    "    return np.mean(np.abs(truth - predictions))\n",
    "\n",
    "# Function to calculate R-squared (R²)\n",
    "def r_squared(truth, predictions):\n",
    "    y_mean = np.mean(truth)\n",
    "    ss_total = np.sum((truth - y_mean)**2)\n",
    "    ss_res = np.sum((truth - predictions)**2)\n",
    "    return 1 - (ss_res / ss_total)\n",
    "``\n",
    "# Calculate evaluation metrics\n",
    "mse_value = mse(Y_test, predictions)\n",
    "rmse_value = rmse(Y_test, predictions)\n",
    "mae_value = mae(Y_test, predictions)\n",
    "r_squared_value = r_squared(Y_test, predictions)\n",
    "\n",
    "# Display the evaluation metrics\n",
    "print(\"Mean Squared Error (MSE):\", mse_value)\n",
    "print(\"Root Mean Squared Error (RMSE):\", rmse_value)\n",
    "print(\"Mean Absolute Error (MAE):\", mae_value)\n",
    "print(\"R-squared (R²):\", r_squared_value)\n"
   ]
  },
  {
   "cell_type": "markdown",
   "id": "3dac26c4",
   "metadata": {},
   "source": [
    "## 3. Independent Learning\n",
    "\n",
    "Now it's time for you to do some independent learning, using the great power of Google along with the following resources explore the roles of 'Training', 'Testing' and 'Validation' datasets.\n",
    "\n",
    "> https://mlu-explain.github.io/train-test-validation/\n",
    "\n",
    "By the end of your reading you must be able to answer the following questions:\n",
    "\n",
    "1. Describe the terms training, testing and validation datasets."
   ]
  },
  {
   "cell_type": "code",
   "execution_count": null,
   "id": "4190f29e",
   "metadata": {},
   "outputs": [],
   "source": []
  },
  {
   "cell_type": "markdown",
   "id": "cab20c28",
   "metadata": {},
   "source": [
    "2. What are the most common ratios for splitting data between training, testing and validation?"
   ]
  },
  {
   "cell_type": "code",
   "execution_count": null,
   "id": "b4e1591b",
   "metadata": {},
   "outputs": [],
   "source": []
  },
  {
   "cell_type": "markdown",
   "id": "ecd0ee97",
   "metadata": {},
   "source": [
    "3. What are the advantages and disadvantages to splitting data this way?"
   ]
  },
  {
   "cell_type": "code",
   "execution_count": null,
   "id": "119ead00",
   "metadata": {},
   "outputs": [],
   "source": []
  },
  {
   "cell_type": "markdown",
   "id": "ae81aea2",
   "metadata": {},
   "source": [
    "Finally, if you want to explore further regression metrics feel free to take a look at the sklearn metrics available [here](https://scikit-learn.org/stable/modules/model_evaluation.html#regression-metrics) in future exercises do not feel you need to implemented regression metrics by first-principles you may use the sklearn implementations.\n",
    "\n",
    "## (Optional) 4. House Prices [Pandas]\n",
    "\n",
    "A dataset has been provided on Moodle called 'house_price.csv' which contains details of home sales, below I have provided code which displays the first five rows of the dataset and how to extract certain parts of the data."
   ]
  },
  {
   "cell_type": "code",
   "execution_count": 13,
   "id": "bf7e42a4",
   "metadata": {},
   "outputs": [],
   "source": [
    "import pandas as pd"
   ]
  },
  {
   "cell_type": "code",
   "execution_count": 14,
   "id": "dd3eda1d",
   "metadata": {},
   "outputs": [],
   "source": [
    "# Load the dataset\n",
    "dataset = pd.read_csv(\"house_price_data.csv\")"
   ]
  },
  {
   "cell_type": "code",
   "execution_count": 15,
   "id": "443f4bec",
   "metadata": {},
   "outputs": [
    {
     "data": {
      "text/html": [
       "<div>\n",
       "<style scoped>\n",
       "    .dataframe tbody tr th:only-of-type {\n",
       "        vertical-align: middle;\n",
       "    }\n",
       "\n",
       "    .dataframe tbody tr th {\n",
       "        vertical-align: top;\n",
       "    }\n",
       "\n",
       "    .dataframe thead th {\n",
       "        text-align: right;\n",
       "    }\n",
       "</style>\n",
       "<table border=\"1\" class=\"dataframe\">\n",
       "  <thead>\n",
       "    <tr style=\"text-align: right;\">\n",
       "      <th></th>\n",
       "      <th>id</th>\n",
       "      <th>date</th>\n",
       "      <th>price</th>\n",
       "      <th>bedrooms</th>\n",
       "      <th>bathrooms</th>\n",
       "      <th>sqft_living</th>\n",
       "      <th>sqft_lot</th>\n",
       "      <th>floors</th>\n",
       "      <th>waterfront</th>\n",
       "      <th>view</th>\n",
       "      <th>...</th>\n",
       "      <th>grade</th>\n",
       "      <th>sqft_above</th>\n",
       "      <th>sqft_basement</th>\n",
       "      <th>yr_built</th>\n",
       "      <th>yr_renovated</th>\n",
       "      <th>zipcode</th>\n",
       "      <th>lat</th>\n",
       "      <th>long</th>\n",
       "      <th>sqft_living15</th>\n",
       "      <th>sqft_lot15</th>\n",
       "    </tr>\n",
       "  </thead>\n",
       "  <tbody>\n",
       "    <tr>\n",
       "      <th>0</th>\n",
       "      <td>7129300520</td>\n",
       "      <td>20141013T000000</td>\n",
       "      <td>221900</td>\n",
       "      <td>3</td>\n",
       "      <td>1.00</td>\n",
       "      <td>1180</td>\n",
       "      <td>5650</td>\n",
       "      <td>1.0</td>\n",
       "      <td>0</td>\n",
       "      <td>0</td>\n",
       "      <td>...</td>\n",
       "      <td>7</td>\n",
       "      <td>1180</td>\n",
       "      <td>0</td>\n",
       "      <td>1955</td>\n",
       "      <td>0</td>\n",
       "      <td>98178</td>\n",
       "      <td>47.5112</td>\n",
       "      <td>-122.257</td>\n",
       "      <td>1340</td>\n",
       "      <td>5650</td>\n",
       "    </tr>\n",
       "    <tr>\n",
       "      <th>1</th>\n",
       "      <td>6414100192</td>\n",
       "      <td>20141209T000000</td>\n",
       "      <td>538000</td>\n",
       "      <td>3</td>\n",
       "      <td>2.25</td>\n",
       "      <td>2570</td>\n",
       "      <td>7242</td>\n",
       "      <td>2.0</td>\n",
       "      <td>0</td>\n",
       "      <td>0</td>\n",
       "      <td>...</td>\n",
       "      <td>7</td>\n",
       "      <td>2170</td>\n",
       "      <td>400</td>\n",
       "      <td>1951</td>\n",
       "      <td>1991</td>\n",
       "      <td>98125</td>\n",
       "      <td>47.7210</td>\n",
       "      <td>-122.319</td>\n",
       "      <td>1690</td>\n",
       "      <td>7639</td>\n",
       "    </tr>\n",
       "    <tr>\n",
       "      <th>2</th>\n",
       "      <td>5631500400</td>\n",
       "      <td>20150225T000000</td>\n",
       "      <td>180000</td>\n",
       "      <td>2</td>\n",
       "      <td>1.00</td>\n",
       "      <td>770</td>\n",
       "      <td>10000</td>\n",
       "      <td>1.0</td>\n",
       "      <td>0</td>\n",
       "      <td>0</td>\n",
       "      <td>...</td>\n",
       "      <td>6</td>\n",
       "      <td>770</td>\n",
       "      <td>0</td>\n",
       "      <td>1933</td>\n",
       "      <td>0</td>\n",
       "      <td>98028</td>\n",
       "      <td>47.7379</td>\n",
       "      <td>-122.233</td>\n",
       "      <td>2720</td>\n",
       "      <td>8062</td>\n",
       "    </tr>\n",
       "    <tr>\n",
       "      <th>3</th>\n",
       "      <td>2487200875</td>\n",
       "      <td>20141209T000000</td>\n",
       "      <td>604000</td>\n",
       "      <td>4</td>\n",
       "      <td>3.00</td>\n",
       "      <td>1960</td>\n",
       "      <td>5000</td>\n",
       "      <td>1.0</td>\n",
       "      <td>0</td>\n",
       "      <td>0</td>\n",
       "      <td>...</td>\n",
       "      <td>7</td>\n",
       "      <td>1050</td>\n",
       "      <td>910</td>\n",
       "      <td>1965</td>\n",
       "      <td>0</td>\n",
       "      <td>98136</td>\n",
       "      <td>47.5208</td>\n",
       "      <td>-122.393</td>\n",
       "      <td>1360</td>\n",
       "      <td>5000</td>\n",
       "    </tr>\n",
       "    <tr>\n",
       "      <th>4</th>\n",
       "      <td>1954400510</td>\n",
       "      <td>20150218T000000</td>\n",
       "      <td>510000</td>\n",
       "      <td>3</td>\n",
       "      <td>2.00</td>\n",
       "      <td>1680</td>\n",
       "      <td>8080</td>\n",
       "      <td>1.0</td>\n",
       "      <td>0</td>\n",
       "      <td>0</td>\n",
       "      <td>...</td>\n",
       "      <td>8</td>\n",
       "      <td>1680</td>\n",
       "      <td>0</td>\n",
       "      <td>1987</td>\n",
       "      <td>0</td>\n",
       "      <td>98074</td>\n",
       "      <td>47.6168</td>\n",
       "      <td>-122.045</td>\n",
       "      <td>1800</td>\n",
       "      <td>7503</td>\n",
       "    </tr>\n",
       "  </tbody>\n",
       "</table>\n",
       "<p>5 rows × 21 columns</p>\n",
       "</div>"
      ],
      "text/plain": [
       "           id             date   price  bedrooms  bathrooms  sqft_living  \\\n",
       "0  7129300520  20141013T000000  221900         3       1.00         1180   \n",
       "1  6414100192  20141209T000000  538000         3       2.25         2570   \n",
       "2  5631500400  20150225T000000  180000         2       1.00          770   \n",
       "3  2487200875  20141209T000000  604000         4       3.00         1960   \n",
       "4  1954400510  20150218T000000  510000         3       2.00         1680   \n",
       "\n",
       "   sqft_lot  floors  waterfront  view  ...  grade  sqft_above  sqft_basement  \\\n",
       "0      5650     1.0           0     0  ...      7        1180              0   \n",
       "1      7242     2.0           0     0  ...      7        2170            400   \n",
       "2     10000     1.0           0     0  ...      6         770              0   \n",
       "3      5000     1.0           0     0  ...      7        1050            910   \n",
       "4      8080     1.0           0     0  ...      8        1680              0   \n",
       "\n",
       "   yr_built  yr_renovated  zipcode      lat     long  sqft_living15  \\\n",
       "0      1955             0    98178  47.5112 -122.257           1340   \n",
       "1      1951          1991    98125  47.7210 -122.319           1690   \n",
       "2      1933             0    98028  47.7379 -122.233           2720   \n",
       "3      1965             0    98136  47.5208 -122.393           1360   \n",
       "4      1987             0    98074  47.6168 -122.045           1800   \n",
       "\n",
       "   sqft_lot15  \n",
       "0        5650  \n",
       "1        7639  \n",
       "2        8062  \n",
       "3        5000  \n",
       "4        7503  \n",
       "\n",
       "[5 rows x 21 columns]"
      ]
     },
     "execution_count": 15,
     "metadata": {},
     "output_type": "execute_result"
    }
   ],
   "source": [
    "# Show the first five rows\n",
    "dataset.head(5)"
   ]
  },
  {
   "cell_type": "code",
   "execution_count": 16,
   "id": "06db5c56",
   "metadata": {},
   "outputs": [
    {
     "data": {
      "text/plain": [
       "0        3\n",
       "1        3\n",
       "2        2\n",
       "3        4\n",
       "4        3\n",
       "        ..\n",
       "21608    3\n",
       "21609    4\n",
       "21610    2\n",
       "21611    3\n",
       "21612    2\n",
       "Name: bedrooms, Length: 21613, dtype: int64"
      ]
     },
     "execution_count": 16,
     "metadata": {},
     "output_type": "execute_result"
    }
   ],
   "source": [
    "# Extract the column of bedrooms\n",
    "dataset['bedrooms']"
   ]
  },
  {
   "cell_type": "code",
   "execution_count": 17,
   "id": "2258decb",
   "metadata": {},
   "outputs": [
    {
     "data": {
      "text/plain": [
       "array([3, 3, 2, ..., 2, 3, 2])"
      ]
     },
     "execution_count": 17,
     "metadata": {},
     "output_type": "execute_result"
    }
   ],
   "source": [
    "# Convert features into a usable Numpy array\n",
    "np.array(dataset['bedrooms'])"
   ]
  },
  {
   "cell_type": "code",
   "execution_count": 18,
   "id": "18c6741d",
   "metadata": {},
   "outputs": [],
   "source": [
    "# If you want to train LR using only one input variable you need to do a small reshape on the input vector\n",
    "training_data_X = np.array(dataset['bedrooms']).reshape(-1, 1)"
   ]
  },
  {
   "cell_type": "markdown",
   "id": "4ab585fa",
   "metadata": {},
   "source": [
    "### TASK 4.1: Split Data\n",
    "\n",
    "Your first task is to split the data into at least a train and test set."
   ]
  },
  {
   "cell_type": "code",
   "execution_count": null,
   "id": "74651a8e",
   "metadata": {},
   "outputs": [],
   "source": []
  },
  {
   "cell_type": "markdown",
   "id": "d69858fc",
   "metadata": {},
   "source": [
    "### TASK 4.2: Predicting House Price\n",
    "\n",
    "Using the training data you extracted perform three experiments using different sets of features (e.g. bedrooms and bathrooms or bedrooms and sqft_living) to predict the price of the house."
   ]
  },
  {
   "cell_type": "code",
   "execution_count": null,
   "id": "e1c6dfe4",
   "metadata": {},
   "outputs": [],
   "source": []
  },
  {
   "cell_type": "markdown",
   "id": "bfd2461b",
   "metadata": {},
   "source": [
    "### Task 4.3: Evaluate Selections\n",
    "\n",
    "Evlauate your models from task 4.2 using your test data from task 4.1. Which model predicts house price the best? Why do you think that is?"
   ]
  },
  {
   "cell_type": "code",
   "execution_count": null,
   "id": "08c72027",
   "metadata": {},
   "outputs": [],
   "source": []
  }
 ],
 "metadata": {
  "kernelspec": {
   "display_name": "Python 3 (ipykernel)",
   "language": "python",
   "name": "python3"
  },
  "language_info": {
   "codemirror_mode": {
    "name": "ipython",
    "version": 3
   },
   "file_extension": ".py",
   "mimetype": "text/x-python",
   "name": "python",
   "nbconvert_exporter": "python",
   "pygments_lexer": "ipython3",
   "version": "3.9.13"
  }
 },
 "nbformat": 4,
 "nbformat_minor": 5
}
